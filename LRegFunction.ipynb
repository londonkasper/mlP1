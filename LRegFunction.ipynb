{
 "cells": [
  {
   "cell_type": "code",
   "execution_count": 22,
   "id": "7ed680cb-c19d-43b1-ba16-cd864327e012",
   "metadata": {},
   "outputs": [],
   "source": [
    "import pandas as pd\n",
    "import numpy as np\n",
    "import seaborn as sns\n",
    "import matplotlib.pyplot as plt\n",
    "import matplotlib as mpl\n",
    "import statsmodels.formula.api as sm\n",
    "from sklearn.linear_model import LinearRegression"
   ]
  },
  {
   "cell_type": "code",
   "execution_count": 25,
   "id": "6a9d1b7f-377a-4c7a-80fa-74f49228fb2c",
   "metadata": {},
   "outputs": [
    {
     "data": {
      "text/plain": [
       "13618477202"
      ]
     },
     "execution_count": 25,
     "metadata": {},
     "output_type": "execute_result"
    }
   ],
   "source": [
    "path = '/Users/ianwe/Desktop/PopulationDatabase/'\n",
    "\n",
    "pop = pd.read_csv(path + 'Population.csv')\n",
    "birth = pd.read_csv(path + 'Births.csv')\n",
    "death = pd.read_csv(path + 'DeathRate.csv')\n",
    "\n",
    "year = 2122\n",
    "\n",
    "pop.dropna(inplace=True)\n",
    "pop = pop.reset_index().rename(columns={'date':'year'})\n",
    "pop.head()\n",
    "\n",
    "x = pop.iloc[:,1].values.reshape(-1,1)\n",
    "y = pop.iloc[:,2].values.reshape(-1,1)\n",
    "model = LinearRegression().fit(x,y)\n",
    "\n",
    "hold = int(model.coef_[0][0] * year + model.intercept_[0])\n",
    "\n",
    "hold\n",
    "#13,618,477,202\n",
    "\n"
   ]
  },
  {
   "cell_type": "code",
   "execution_count": null,
   "id": "b381549c-780c-456c-ad07-86cc56bc8154",
   "metadata": {},
   "outputs": [],
   "source": []
  },
  {
   "cell_type": "code",
   "execution_count": null,
   "id": "ed9e814c-f499-4cf6-a489-dec65b2d7fc1",
   "metadata": {},
   "outputs": [],
   "source": []
  }
 ],
 "metadata": {
  "kernelspec": {
   "display_name": "Python 3 (ipykernel)",
   "language": "python",
   "name": "python3"
  },
  "language_info": {
   "codemirror_mode": {
    "name": "ipython",
    "version": 3
   },
   "file_extension": ".py",
   "mimetype": "text/x-python",
   "name": "python",
   "nbconvert_exporter": "python",
   "pygments_lexer": "ipython3",
   "version": "3.9.7"
  }
 },
 "nbformat": 4,
 "nbformat_minor": 5
}
