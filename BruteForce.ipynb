{
 "cells": [
  {
   "cell_type": "code",
   "execution_count": 29,
   "id": "75b0f0bf-c52a-4f29-a9bb-73000f7b91bb",
   "metadata": {
    "tags": []
   },
   "outputs": [],
   "source": [
    "import pandas as pd\n",
    "import numpy as np\n",
    "import seaborn as sns\n",
    "import matplotlib.pyplot as plt\n",
    "import matplotlib as mpl"
   ]
  },
  {
   "cell_type": "code",
   "execution_count": 36,
   "id": "0407a6b8-52fb-4f99-bc91-25136c19bdba",
   "metadata": {
    "tags": []
   },
   "outputs": [],
   "source": [
    "def rateOfChange(x):\n",
    "    change = (-0.0142*x) + 2.1332\n",
    "    return change/100"
   ]
  },
  {
   "cell_type": "code",
   "execution_count": 37,
   "id": "1fa47705-593a-48a7-bb83-5ea3ae670c40",
   "metadata": {
    "tags": []
   },
   "outputs": [
    {
     "name": "stdout",
     "output_type": "stream",
     "text": [
      "7953952567\n",
      "7953952567\n"
     ]
    },
    {
     "data": {
      "text/plain": [
       "11903223586.844782"
      ]
     },
     "execution_count": 39,
     "metadata": {},
     "output_type": "execute_result"
    }
   ],
   "source": [
    "path = '/Users/ianwe/Desktop/PopulationDatabase/'\n",
    "\n",
    "pop = pd.read_csv(path + 'Population.csv')\n",
    "birth = pd.read_csv(path + 'Births.csv')\n",
    "death = pd.read_csv(path + 'DeathRate.csv')\n",
    "\n",
    "#plot linear regression for births and deaths\n",
    "# y = -0.0142x + 2.1332\n",
    "\n",
    "# 1960 = 0\n",
    "# 2122 = 172\n",
    "# 2022 = 72\n",
    "\n",
    "\n",
    "population = 7953952567\n",
    "\n",
    "for i in range(72,173):\n",
    "    population = population + (population*rateOfChange(i))\n",
    "    \n",
    "\n",
    "population\n",
    "\n"
   ]
  },
  {
   "cell_type": "code",
   "execution_count": null,
   "id": "7f62dd3d-70ab-434c-8a6e-bd440a8f0db2",
   "metadata": {},
   "outputs": [],
   "source": []
  },
  {
   "cell_type": "code",
   "execution_count": null,
   "id": "595a08b8-7494-44fb-a86d-4c95fdad8022",
   "metadata": {},
   "outputs": [],
   "source": []
  }
 ],
 "metadata": {
  "kernelspec": {
   "display_name": "Python 3 (ipykernel)",
   "language": "python",
   "name": "python3"
  },
  "language_info": {
   "codemirror_mode": {
    "name": "ipython",
    "version": 3
   },
   "file_extension": ".py",
   "mimetype": "text/x-python",
   "name": "python",
   "nbconvert_exporter": "python",
   "pygments_lexer": "ipython3",
   "version": "3.9.7"
  }
 },
 "nbformat": 4,
 "nbformat_minor": 5
}
