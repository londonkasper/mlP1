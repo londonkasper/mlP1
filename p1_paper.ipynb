{
 "cells": [
  {
   "cell_type": "markdown",
   "id": "b3f068ae-3d64-44c3-aa8b-1bf539428d5e",
   "metadata": {},
   "source": [
    "# Population Prediction Machine"
   ]
  },
  {
   "cell_type": "markdown",
   "id": "d2d0a387-8a84-41c4-9b82-4bc0359a6267",
   "metadata": {
    "tags": []
   },
   "source": [
    "#### Jeremy Waibel, Michael Amberg, Ian Webster, London Kasper\n",
    "#### CS 5394/7394\n",
    "##### https://github.com/londonkasper/mlP1.git\n",
    "\n",
    "### Summary\n",
    "   For this project, we were tasked with predicting the population of the Earth in 2122. In order to predict this, we used pre-existing data of the rates of population growth for the last 70 years.\n",
    "\n",
    "### Research\n",
    "In order to find a way to approach this problem, we first researched how modern population predictions are made. Linear regressions are the most popular tool, which \n",
    "<br><br>Through our research, we also learned that population predictions, even those done by professionals, tend to become overestimates as their timeframe expires. \n",
    "**NEEDS MORE**\n",
    "\n",
    "### Prediction Process\n",
    "We decided that while the population is affected by numerous factors (such as food production rates, natural disasters, healthcare expansions), there are only two factors that directly impact the population. These factors, the birth and death rate of each year, are the only direct causes of changes in population and therefore should form the basis of our initial model.\n",
    "<br><br>Initially, we formed a regression based on the net change (birth rate minus death rate) of the world’s population alone. Our result was much larger than we expected—  we predicted 15.8 billion people, more than twice the current world’s population. Since this seemed unreasonable, we decided to take a different approach and create separate predictions of both a birth and death rate for each year until 2122. **PLEASE EXPLAIN PROCESS IN DEPTH HERE\n",
    "NEED MORE IN THIS SECTION**\n",
    "\n",
    "### Hindsight is 2122\n",
    "In reflecting, we realized we had a difficult time getting started with this project due to our lack of understanding of the prompt. Together we brainstormed countless factors that could affect the human population at any point in the next century. As you might imagine, the list we came up with was far out of the scope of our knowledge, deadline, and distracted us from the far simpler problem at hand. It took us a while to realize that factors such as war and advancements in technology are already reflected in our data, and that it was out of the scope of our project to include predictions for major events. Essentially, we started too large-scale, and eventually had to limit our ambitions for the sake of time.\n",
    "<br><br>Since we were unable to include factors such as famine, disease, and population density, we felt that our prediction was missing worldly context. Given more time we would incorporate more factors into our prediction. For example, we would want to check for correlations between food production and fertility, or see if there are correlations between the number of births per mother and the GDP of the country. \n",
    "<br><br>Additionally, between the members of our group we had very different levels of experience with statistical models, ranging from those with no prior statistics experience to graduate-level statisticians. Communication between these groups was very difficult due to this learning curve, and led to a bit of time-consuming frustration. In order to avoid this sort of conflict in the future, we will seek to allocate tasks more efficiently at the beginning of the project.\n",
    "<br><br>Similarly, we attempted to approach this problem solely using Python. While most (if not all) of the functions we ended up using are available in Python, we found R to be more effective in terms of preliminary data inspection. As this was the first time for any of using Anaconda Navigator, Python and (for some) Jupyter Lab, there was a bit of a learning curve involved in simply finishing the project to fit the rubric.\n",
    "\n"
   ]
  },
  {
   "cell_type": "code",
   "execution_count": null,
   "id": "cbe06c36-faf5-4d6c-a45f-e2a193b5ae6c",
   "metadata": {},
   "outputs": [],
   "source": []
  }
 ],
 "metadata": {
  "kernelspec": {
   "display_name": "Python 3 (ipykernel)",
   "language": "python",
   "name": "python3"
  },
  "language_info": {
   "codemirror_mode": {
    "name": "ipython",
    "version": 3
   },
   "file_extension": ".py",
   "mimetype": "text/x-python",
   "name": "python",
   "nbconvert_exporter": "python",
   "pygments_lexer": "ipython3",
   "version": "3.9.7"
  }
 },
 "nbformat": 4,
 "nbformat_minor": 5
}
